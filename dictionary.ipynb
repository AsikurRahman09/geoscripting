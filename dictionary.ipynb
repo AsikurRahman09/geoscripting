{
 "cells": [
  {
   "cell_type": "code",
   "execution_count": 4,
   "id": "c810c31d-3491-4c6f-a27b-8d11bde1a30a",
   "metadata": {},
   "outputs": [
    {
     "name": "stdout",
     "output_type": "stream",
     "text": [
      "Asikur\n"
     ]
    }
   ],
   "source": [
    "#key -> value_fair\n",
    "#dictionary\n",
    "StudentID ={\n",
    "    \"213109\" : \"Asikur\",\n",
    "    \"213114\" : \"Anik\", \n",
    "    \"23123\"  : \"Atia\", \n",
    "    \"213104\" : \"Bashar\",\n",
    "}\n",
    "print(StudentID [\"213109\"])"
   ]
  },
  {
   "cell_type": "code",
   "execution_count": 4,
   "id": "2ada589c-aa14-4f9c-b05d-f9a0e9cde53e",
   "metadata": {},
   "outputs": [
    {
     "name": "stdout",
     "output_type": "stream",
     "text": [
      "asik\n"
     ]
    }
   ],
   "source": [
    "#key ->value fair\n",
    "#dictionary\n",
    "CN = { \"01771002825\" : \"asik\", \"087654e3\" : \"atia\",\n",
    "     }\n",
    "print(CN [\"01771002825\"])"
   ]
  },
  {
   "cell_type": "code",
   "execution_count": 22,
   "id": "fbdb7f26-7b93-4f46-b7c4-09fcc06fb29c",
   "metadata": {},
   "outputs": [
    {
     "name": "stdout",
     "output_type": "stream",
     "text": [
      "aR\n"
     ]
    }
   ],
   "source": [
    "#key ->value fair\n",
    "#dictionary\n",
    "CN = { \"01\" : \"aR\", \"087654e3\" : \"atia\",\n",
    "     }\n",
    "print(CN [\"01\"])"
   ]
  },
  {
   "cell_type": "code",
   "execution_count": 30,
   "id": "1beeb61e-4dc6-4f2e-85b3-dc48f27f44d0",
   "metadata": {},
   "outputs": [
    {
     "name": "stdout",
     "output_type": "stream",
     "text": [
      "{'213109': 'Asikur', '213114': 'Anik', '23123': 'Atia', '213104': 'Bashar'}\n",
      "Anik\n",
      "Asikur\n"
     ]
    }
   ],
   "source": [
    "#key -> value_fair\n",
    "#dictionary\n",
    "StudentID ={\n",
    "    \"213109\" : \"Asikur\",\n",
    "    \"213114\" : \"Anik\", \n",
    "    \"23123\"  : \"Atia\", \n",
    "    \"213104\" : \"Bashar\",\n",
    "}\n",
    "print(StudentID)\n",
    "print(StudentID.get(\"213114\"))\n",
    "print(StudentID.get(\"213109\",\"Not a valid key\"))"
   ]
  },
  {
   "cell_type": "code",
   "execution_count": 40,
   "id": "845681c1-b803-4192-897c-929ed2b3a66f",
   "metadata": {},
   "outputs": [
    {
     "name": "stdout",
     "output_type": "stream",
     "text": [
      "3444\n",
      "('3444', '213114', '23123', '213104')\n",
      "('213114', '23123', '213104')\n"
     ]
    }
   ],
   "source": [
    "#Tuples\n",
    "students=(\n",
    "    \"3444\" ,\n",
    "    \"213114\",\n",
    "    \"23123\" ,\n",
    "    \"213104\",\n",
    ")\n",
    "print(students[0])\n",
    "print(students)\n",
    "print(students [1:5])"
   ]
  },
  {
   "cell_type": "code",
   "execution_count": 50,
   "id": "2dbb4a97-0676-4bc7-aa28-766d7d2f8ac0",
   "metadata": {},
   "outputs": [
    {
     "name": "stdin",
     "output_type": "stream",
     "text": [
      "your name: Ashik\n"
     ]
    },
    {
     "name": "stdout",
     "output_type": "stream",
     "text": [
      "hello Ashik\n"
     ]
    }
   ],
   "source": [
    "\n",
    "Username=input (\"your name:\")\n",
    "print(f\"hello {Username}\")\n"
   ]
  },
  {
   "cell_type": "code",
   "execution_count": null,
   "id": "b6b0bbc9-1543-41a7-a37d-4e9a97a81cd9",
   "metadata": {},
   "outputs": [],
   "source": [
    "marks = int(input(\"what is your marks in programming\"))\n",
    "def show_grade(grade):\n",
    "    print(f\"you got: {grade}\")\n",
    "if marks >=80:\n",
    "    show_grade(\"A+\")\n",
    "elif marks < 80 and marks >= 70:\n",
    "    show_grade(\"A\")\n",
    "elif marks < 70 and maarks >= 60:\n",
    "    show_grade(\"A\")\n",
    "elif marks >=33:\n",
    "    show_grade(\"passed\")\n",
    "else:\n",
    "    show_grade(\"F\")\n",
    "    \n",
    "      "
   ]
  },
  {
   "cell_type": "code",
   "execution_count": null,
   "id": "e63232d7-90e0-487b-aacf-b4de40652024",
   "metadata": {},
   "outputs": [],
   "source": []
  }
 ],
 "metadata": {
  "kernelspec": {
   "display_name": "Python 3 (ipykernel)",
   "language": "python",
   "name": "python3"
  },
  "language_info": {
   "codemirror_mode": {
    "name": "ipython",
    "version": 3
   },
   "file_extension": ".py",
   "mimetype": "text/x-python",
   "name": "python",
   "nbconvert_exporter": "python",
   "pygments_lexer": "ipython3",
   "version": "3.11.7"
  }
 },
 "nbformat": 4,
 "nbformat_minor": 5
}
